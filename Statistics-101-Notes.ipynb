{
 "cells": [
  {
   "cell_type": "markdown",
   "metadata": {},
   "source": [
    "# Udacity: Statistics 101"
   ]
  },
  {
   "cell_type": "code",
   "execution_count": 1,
   "metadata": {
    "collapsed": true
   },
   "outputs": [],
   "source": [
    "import numpy as np\n",
    "import pandas as pd\n",
    "import matplotlib.pyplot as plt\n",
    "plt.style.use('ggplot')\n",
    "%matplotlib inline"
   ]
  },
  {
   "cell_type": "markdown",
   "metadata": {},
   "source": [
    "### Basic Scatter Plot"
   ]
  },
  {
   "cell_type": "code",
   "execution_count": 2,
   "metadata": {
    "collapsed": true
   },
   "outputs": [],
   "source": [
    "size = [1700, 2100, 1900, 1300, 1600, 2200]\n",
    "price = [51000, 63000, 57000, 39000, 48000, 66000]\n",
    "size_x = pd.Series(size)\n",
    "price_y = pd.Series(price)"
   ]
  },
  {
   "cell_type": "code",
   "execution_count": 3,
   "metadata": {
    "collapsed": false
   },
   "outputs": [
    {
     "data": {
      "text/plain": [
       "0    1700\n",
       "1    2100\n",
       "2    1900\n",
       "3    1300\n",
       "4    1600\n",
       "5    2200\n",
       "dtype: int64"
      ]
     },
     "execution_count": 3,
     "metadata": {},
     "output_type": "execute_result"
    }
   ],
   "source": [
    "size_x"
   ]
  },
  {
   "cell_type": "code",
   "execution_count": 4,
   "metadata": {
    "collapsed": false
   },
   "outputs": [
    {
     "data": {
      "text/plain": [
       "0    51000\n",
       "1    63000\n",
       "2    57000\n",
       "3    39000\n",
       "4    48000\n",
       "5    66000\n",
       "dtype: int64"
      ]
     },
     "execution_count": 4,
     "metadata": {},
     "output_type": "execute_result"
    }
   ],
   "source": [
    "price_y"
   ]
  },
  {
   "cell_type": "code",
   "execution_count": 5,
   "metadata": {
    "collapsed": false
   },
   "outputs": [
    {
     "data": {
      "text/html": [
       "<div style=\"max-height:1000px;max-width:1500px;overflow:auto;\">\n",
       "<table border=\"1\" class=\"dataframe\">\n",
       "  <thead>\n",
       "    <tr style=\"text-align: right;\">\n",
       "      <th></th>\n",
       "      <th>price</th>\n",
       "      <th>size</th>\n",
       "    </tr>\n",
       "  </thead>\n",
       "  <tbody>\n",
       "    <tr>\n",
       "      <th>0</th>\n",
       "      <td>51000</td>\n",
       "      <td>1700</td>\n",
       "    </tr>\n",
       "    <tr>\n",
       "      <th>1</th>\n",
       "      <td>63000</td>\n",
       "      <td>2100</td>\n",
       "    </tr>\n",
       "    <tr>\n",
       "      <th>2</th>\n",
       "      <td>57000</td>\n",
       "      <td>1900</td>\n",
       "    </tr>\n",
       "    <tr>\n",
       "      <th>3</th>\n",
       "      <td>39000</td>\n",
       "      <td>1300</td>\n",
       "    </tr>\n",
       "    <tr>\n",
       "      <th>4</th>\n",
       "      <td>48000</td>\n",
       "      <td>1600</td>\n",
       "    </tr>\n",
       "    <tr>\n",
       "      <th>5</th>\n",
       "      <td>66000</td>\n",
       "      <td>2200</td>\n",
       "    </tr>\n",
       "  </tbody>\n",
       "</table>\n",
       "</div>"
      ],
      "text/plain": [
       "   price  size\n",
       "0  51000  1700\n",
       "1  63000  2100\n",
       "2  57000  1900\n",
       "3  39000  1300\n",
       "4  48000  1600\n",
       "5  66000  2200"
      ]
     },
     "execution_count": 5,
     "metadata": {},
     "output_type": "execute_result"
    }
   ],
   "source": [
    "d = {'size': size_x, 'price': price_y}\n",
    "housingPrices = pd.DataFrame(d)\n",
    "housingPrices"
   ]
  },
  {
   "cell_type": "code",
   "execution_count": 6,
   "metadata": {
    "collapsed": false
   },
   "outputs": [
    {
     "data": {
      "image/png": "[encoded data removed]",
      "text/plain": [
       "<matplotlib.figure.Figure at 0x52f63c8>"
      ]
     },
     "metadata": {},
     "output_type": "display_data"
    }
   ],
   "source": [
    "housingPrices.plot(kind='scatter', x='size', y='price', s=50);"
   ]
  },
  {
   "cell_type": "code",
   "execution_count": 7,
   "metadata": {
    "collapsed": false
   },
   "outputs": [
    {
     "data": {
      "text/html": [
       "<div style=\"max-height:1000px;max-width:1500px;overflow:auto;\">\n",
       "<table border=\"1\" class=\"dataframe\">\n",
       "  <thead>\n",
       "    <tr style=\"text-align: right;\">\n",
       "      <th></th>\n",
       "      <th>price</th>\n",
       "      <th>size</th>\n",
       "    </tr>\n",
       "  </thead>\n",
       "  <tbody>\n",
       "    <tr>\n",
       "      <th>0</th>\n",
       "      <td>53000</td>\n",
       "      <td>1700</td>\n",
       "    </tr>\n",
       "    <tr>\n",
       "      <th>1</th>\n",
       "      <td>65000</td>\n",
       "      <td>2100</td>\n",
       "    </tr>\n",
       "    <tr>\n",
       "      <th>2</th>\n",
       "      <td>59000</td>\n",
       "      <td>1900</td>\n",
       "    </tr>\n",
       "    <tr>\n",
       "      <th>3</th>\n",
       "      <td>41000</td>\n",
       "      <td>1300</td>\n",
       "    </tr>\n",
       "    <tr>\n",
       "      <th>4</th>\n",
       "      <td>50000</td>\n",
       "      <td>1600</td>\n",
       "    </tr>\n",
       "    <tr>\n",
       "      <th>5</th>\n",
       "      <td>68000</td>\n",
       "      <td>2200</td>\n",
       "    </tr>\n",
       "  </tbody>\n",
       "</table>\n",
       "</div>"
      ],
      "text/plain": [
       "   price  size\n",
       "0  53000  1700\n",
       "1  65000  2100\n",
       "2  59000  1900\n",
       "3  41000  1300\n",
       "4  50000  1600\n",
       "5  68000  2200"
      ]
     },
     "execution_count": 7,
     "metadata": {},
     "output_type": "execute_result"
    }
   ],
   "source": [
    "size = [1700, 2100, 1900, 1300, 1600, 2200]\n",
    "price = [53000, 65000, 59000, 41000, 50000, 68000]\n",
    "size_x = pd.Series(size)\n",
    "price_y = pd.Series(price)\n",
    "d = {'size': size_x, 'price': price_y}\n",
    "housingPrices = pd.DataFrame(d)\n",
    "housingPrices"
   ]
  },
  {
   "cell_type": "code",
   "execution_count": 8,
   "metadata": {
    "collapsed": false
   },
   "outputs": [
    {
     "data": {
      "text/plain": [
       "<matplotlib.axes._subplots.AxesSubplot at 0x53396a0>"
      ]
     },
     "execution_count": 8,
     "metadata": {},
     "output_type": "execute_result"
    },
    {
     "data": {
      "image/png": "[encoded data removed]",
      "text/plain": [
       "<matplotlib.figure.Figure at 0x5350dd8>"
      ]
     },
     "metadata": {},
     "output_type": "display_data"
    }
   ],
   "source": [
    "housingPrices.plot(kind='scatter', x='size', y='price', s=50)"
   ]
  },
  {
   "cell_type": "code",
   "execution_count": 9,
   "metadata": {
    "collapsed": false
   },
   "outputs": [
    {
     "data": {
      "text/html": [
       "<div style=\"max-height:1000px;max-width:1500px;overflow:auto;\">\n",
       "<table border=\"1\" class=\"dataframe\">\n",
       "  <thead>\n",
       "    <tr style=\"text-align: right;\">\n",
       "      <th></th>\n",
       "      <th>price</th>\n",
       "      <th>size</th>\n",
       "    </tr>\n",
       "  </thead>\n",
       "  <tbody>\n",
       "    <tr>\n",
       "      <th>0</th>\n",
       "      <td>53000</td>\n",
       "      <td>1700</td>\n",
       "    </tr>\n",
       "    <tr>\n",
       "      <th>1</th>\n",
       "      <td>44000</td>\n",
       "      <td>2100</td>\n",
       "    </tr>\n",
       "    <tr>\n",
       "      <th>2</th>\n",
       "      <td>59000</td>\n",
       "      <td>1900</td>\n",
       "    </tr>\n",
       "    <tr>\n",
       "      <th>3</th>\n",
       "      <td>82000</td>\n",
       "      <td>1300</td>\n",
       "    </tr>\n",
       "    <tr>\n",
       "      <th>4</th>\n",
       "      <td>50000</td>\n",
       "      <td>1600</td>\n",
       "    </tr>\n",
       "    <tr>\n",
       "      <th>5</th>\n",
       "      <td>68000</td>\n",
       "      <td>2200</td>\n",
       "    </tr>\n",
       "  </tbody>\n",
       "</table>\n",
       "</div>"
      ],
      "text/plain": [
       "   price  size\n",
       "0  53000  1700\n",
       "1  44000  2100\n",
       "2  59000  1900\n",
       "3  82000  1300\n",
       "4  50000  1600\n",
       "5  68000  2200"
      ]
     },
     "execution_count": 9,
     "metadata": {},
     "output_type": "execute_result"
    }
   ],
   "source": [
    "size = [1700, 2100, 1900, 1300, 1600, 2200]\n",
    "price = [53000, 44000, 59000, 82000, 50000, 68000]\n",
    "size_x = pd.Series(size)\n",
    "price_y = pd.Series(price)\n",
    "d = {'size': size_x, 'price': price_y}\n",
    "housingPrices = pd.DataFrame(d)\n",
    "housingPrices"
   ]
  },
  {
   "cell_type": "code",
   "execution_count": 10,
   "metadata": {
    "collapsed": false
   },
   "outputs": [
    {
     "data": {
      "image/png": "[encoded data removed]",
      "text/plain": [
       "<matplotlib.figure.Figure at 0x5349ac8>"
      ]
     },
     "metadata": {},
     "output_type": "display_data"
    }
   ],
   "source": [
    "housingPrices.plot(kind='scatter', x='size', y='price', s=50);"
   ]
  },
  {
   "cell_type": "markdown",
   "metadata": {},
   "source": [
    "### Pie Charts\n",
    "* good for relative data"
   ]
  },
  {
   "cell_type": "markdown",
   "metadata": {},
   "source": [
    "#### Percents"
   ]
  },
  {
   "cell_type": "code",
   "execution_count": 11,
   "metadata": {
    "collapsed": false
   },
   "outputs": [
    {
     "data": {
      "text/plain": [
       "(80.0, 20.0)"
      ]
     },
     "execution_count": 11,
     "metadata": {},
     "output_type": "execute_result"
    }
   ],
   "source": [
    "# calculate basic percentage\n",
    "partyA = 724000\n",
    "partyB = 181000\n",
    "\n",
    "# get total\n",
    "total = partyA + partyB\n",
    "\n",
    "# amount divided by total * 100 = percent\n",
    "partyA_percent = (partyA / total) * 100\n",
    "partyB_percent = (partyB / total) * 100\n",
    "partyA_percent, partyB_percent"
   ]
  },
  {
   "cell_type": "code",
   "execution_count": 12,
   "metadata": {
    "collapsed": false
   },
   "outputs": [
    {
     "data": {
      "text/plain": [
       "92000.0"
      ]
     },
     "execution_count": 12,
     "metadata": {},
     "output_type": "execute_result"
    }
   ],
   "source": [
    "# if you know percentages and the amount of one figure\n",
    "partyA = 0\n",
    "partyB = 23000\n",
    "\n",
    "partyA_percent = 80.0\n",
    "partyB_percent = 20.0\n",
    "\n",
    "(partyB / partyB_percent) * partyA_percent"
   ]
  },
  {
   "cell_type": "code",
   "execution_count": 13,
   "metadata": {
    "collapsed": false
   },
   "outputs": [
    {
     "data": {
      "text/plain": [
       "<matplotlib.axes._subplots.AxesSubplot at 0x53ac588>"
      ]
     },
     "execution_count": 13,
     "metadata": {},
     "output_type": "execute_result"
    },
    {
     "data": {
      "image/png": "[encoded data removed]",
      "text/plain": [
       "<matplotlib.figure.Figure at 0x53fd4a8>"
      ]
     },
     "metadata": {},
     "output_type": "display_data"
    }
   ],
   "source": [
    "age = [12000, 96000, 36000]\n",
    "totalAge = age[0] + age[1] + age[2]\n",
    "allStudents = pd.Series(age, index=['13-19', '20-32', '33-999'], name='All Students')\n",
    "allStudents.plot(kind='pie', figsize=(6, 6))"
   ]
  },
  {
   "cell_type": "code",
   "execution_count": 14,
   "metadata": {
    "collapsed": false
   },
   "outputs": [
    {
     "data": {
      "text/plain": [
       "144000"
      ]
     },
     "execution_count": 14,
     "metadata": {},
     "output_type": "execute_result"
    }
   ],
   "source": [
    "totalAge"
   ]
  },
  {
   "cell_type": "code",
   "execution_count": 15,
   "metadata": {
    "collapsed": false
   },
   "outputs": [
    {
     "data": {
      "text/plain": [
       "<matplotlib.axes._subplots.AxesSubplot at 0x53e4358>"
      ]
     },
     "execution_count": 15,
     "metadata": {},
     "output_type": "execute_result"
    },
    {
     "data": {
      "image/png": "[encoded data removed]",
      "text/plain": [
       "<matplotlib.figure.Figure at 0x7edb588>"
      ]
     },
     "metadata": {},
     "output_type": "display_data"
    }
   ],
   "source": [
    "parties = [175000, 50000, 25000, 50000]\n",
    "allParties = pd.Series(parties, index=['Party A', 'Party B', 'Party C', 'Party D'], name='All Parties')\n",
    "allParties.plot(kind='pie', figsize=(6, 6))"
   ]
  },
  {
   "cell_type": "markdown",
   "metadata": {},
   "source": [
    "## Bar Charts\n",
    "* understand global trends\n",
    "* helps us deal with noisy data\n",
    "* 2D data"
   ]
  },
  {
   "cell_type": "code",
   "execution_count": 16,
   "metadata": {
    "collapsed": false
   },
   "outputs": [
    {
     "data": {
      "text/plain": [
       "<matplotlib.axes._subplots.AxesSubplot at 0x7f28d30>"
      ]
     },
     "execution_count": 16,
     "metadata": {},
     "output_type": "execute_result"
    },
    {
     "data": {
      "image/png": "[encoded data removed]",
      "text/plain": [
       "<matplotlib.figure.Figure at 0x5398048>"
      ]
     },
     "metadata": {},
     "output_type": "display_data"
    }
   ],
   "source": [
    "housingPrices.plot(kind='bar')"
   ]
  },
  {
   "cell_type": "code",
   "execution_count": 17,
   "metadata": {
    "collapsed": false
   },
   "outputs": [
    {
     "data": {
      "text/plain": [
       "<matplotlib.axes._subplots.AxesSubplot at 0x7f27278>"
      ]
     },
     "execution_count": 17,
     "metadata": {},
     "output_type": "execute_result"
    },
    {
     "data": {
      "image/png": "[encoded data removed]",
      "text/plain": [
       "<matplotlib.figure.Figure at 0x7ff82b0>"
      ]
     },
     "metadata": {},
     "output_type": "display_data"
    }
   ],
   "source": [
    "housingPrices.plot(kind='barh', stacked=True)"
   ]
  },
  {
   "cell_type": "markdown",
   "metadata": {},
   "source": [
    "## Histograms\n",
    "* 1D data"
   ]
  },
  {
   "cell_type": "code",
   "execution_count": 18,
   "metadata": {
    "collapsed": false
   },
   "outputs": [
    {
     "data": {
      "text/plain": [
       "<matplotlib.axes._subplots.AxesSubplot at 0x802aba8>"
      ]
     },
     "execution_count": 18,
     "metadata": {},
     "output_type": "execute_result"
    },
    {
     "data": {
      "image/png": "[encoded data removed]",
      "text/plain": [
       "<matplotlib.figure.Figure at 0x85cf470>"
      ]
     },
     "metadata": {},
     "output_type": "display_data"
    }
   ],
   "source": [
    "height=[65.78, 71.52, 69.4, 68.22, 67.79, 68.7, 69.8, 70.01, 67.9, 66.78,\n",
    " 66.49, 67.62, 68.3, 67.12, 68.28, 71.09, 66.46, 68.65, 71.23, 67.13, 67.83, \n",
    "68.88, 63.48, 68.42, 67.63, 67.21, 70.84, 67.49, 66.53, 65.44, 69.52, 65.81, \n",
    "67.82, 70.6, 71.8, 69.21, 66.8, 67.66, 67.81, 64.05, 68.57, 65.18, 69.66, 67.97, \n",
    "65.98, 68.67, 66.88, 67.7, 69.82, 69.09]\n",
    "\n",
    "weight=[112.99, 136.49, 153.03, 142.34, 144.3, 123.3, 141.49, 136.46, \n",
    "112.37, 120.67, 127.45, 114.14, 125.61, 122.46, 116.09, 140.0, 129.5, 142.97, \n",
    "137.9, 124.04, 141.28, 143.54, 97.9, 129.5, 141.85, 129.72, 142.42, 131.55, \n",
    "108.33, 113.89, 103.3, 120.75, 125.79, 136.22, 140.1, 128.75, 141.8, 121.23, \n",
    "131.35, 106.71, 124.36, 124.86, 139.67, 137.37, 106.45, 128.76, 145.68, 116.82, \n",
    "143.62, 134.93]\n",
    "\n",
    "# since data here is 1D, I used a Series instead of DataFrame\n",
    "height_series = pd.Series(height)\n",
    "height_series.plot(kind='hist', alpha=0.5)"
   ]
  },
  {
   "cell_type": "code",
   "execution_count": 19,
   "metadata": {
    "collapsed": false
   },
   "outputs": [
    {
     "data": {
      "text/plain": [
       "<matplotlib.axes._subplots.AxesSubplot at 0x7fdce48>"
      ]
     },
     "execution_count": 19,
     "metadata": {},
     "output_type": "execute_result"
    },
    {
     "data": {
      "image/png": "[encoded data removed]",
      "text/plain": [
       "<matplotlib.figure.Figure at 0x8041438>"
      ]
     },
     "metadata": {},
     "output_type": "display_data"
    }
   ],
   "source": [
    "weight_series = pd.Series(weight)\n",
    "weight_series.plot(kind='hist', alpha=0.5)"
   ]
  },
  {
   "cell_type": "markdown",
   "metadata": {},
   "source": [
    "## Exploratory Analysis\n",
    "* first, look at the data; try visualizing it in different ways"
   ]
  },
  {
   "cell_type": "code",
   "execution_count": 20,
   "metadata": {
    "collapsed": false
   },
   "outputs": [
    {
     "data": {
      "text/plain": [
       "<matplotlib.axes._subplots.AxesSubplot at 0x96b84e0>"
      ]
     },
     "execution_count": 20,
     "metadata": {},
     "output_type": "execute_result"
    },
    {
     "data": {
      "image/png": "[encoded data removed]",
      "text/plain": [
       "<matplotlib.figure.Figure at 0x96c3320>"
      ]
     },
     "metadata": {},
     "output_type": "display_data"
    }
   ],
   "source": [
    "heightWeight = pd.DataFrame({'height': height, 'weight': weight}, columns=['height', 'weight'])\n",
    "heightWeight.plot(kind='scatter', x='height', y='weight', s=50)"
   ]
  },
  {
   "cell_type": "code",
   "execution_count": 21,
   "metadata": {
    "collapsed": false
   },
   "outputs": [
    {
     "data": {
      "text/plain": [
       "<pandas.core.groupby.DataFrameGroupBy object at 0x00000000096C7198>"
      ]
     },
     "execution_count": 21,
     "metadata": {},
     "output_type": "execute_result"
    }
   ],
   "source": [
    "heightWeight.groupby('height')"
   ]
  },
  {
   "cell_type": "code",
   "execution_count": 22,
   "metadata": {
    "collapsed": false,
    "scrolled": false
   },
   "outputs": [
    {
     "data": {
      "text/plain": [
       "<matplotlib.axes._subplots.AxesSubplot at 0x543de10>"
      ]
     },
     "execution_count": 22,
     "metadata": {},
     "output_type": "execute_result"
    },
    {
     "data": {
      "image/png": "[encoded data removed]",
      "text/plain": [
       "<matplotlib.figure.Figure at 0x543d358>"
      ]
     },
     "metadata": {},
     "output_type": "display_data"
    }
   ],
   "source": [
    "age=[25, 26, 33, 29, 27, 21, 26, 35, 21, 37, 21, 38, 18, 19, 36, 30, 29, 24, 24, 36, 36, 27, 33, 23, 21, 26, 27, 27, 24, 26, 25, \n",
    "          24, 22, 25, 40, 39, 19, 31, 33, 30, 33, 27, 40, 32, 31, 35, 26, 34, 27, 34, 33, 20, 19, 40, 39, 39, 37, 18, 35, 20, 28, 31, \n",
    "          30, 29, 31, 18, 40, 20, 32, 20, 34, 34, 25, 29, 40, 40, 39, 36, 39, 34, 34, 35, 39, 38, 33, 32, 21, 29, 36, 33, 30, 39, 21, \n",
    "          19, 38, 30, 40, 36, 34, 28, 37, 29, 39, 25, 36, 33, 37, 19, 28, 26, 18, 22, 40, 20, 40, 20, 39, 29, 26, 26, 22, 37, 34, 29, \n",
    "          24, 23, 21, 19, 29, 30, 23, 40, 30, 30, 19, 39, 39, 25, 36, 38, 24, 32, 34, 33, 36, 30, 35, 26, 28, 23, 25, 23, 40, 20, 26, \n",
    "          26, 22, 23, 18, 36, 34, 36, 35, 40, 39, 39, 33, 22, 37, 20, 37, 35, 20, 23, 37, 32, 25, 35, 35, 22, 21, 31, 40, 26, 24, 29, \n",
    "          37, 19, 33, 31, 29, 27, 21, 19, 39, 34, 34, 40, 26, 39, 35, 31, 35, 24, 19, 27, 27, 20, 28, 30, 23, 21, 20, 26, 31, 24, 25, \n",
    "          25, 22, 32, 28, 36, 21, 38, 18, 25, 21, 33, 40, 19, 38, 33, 37, 32, 31, 31, 38, 19, 37, 37, 32, 36, 34, 35, 35, 35, 37, 35, \n",
    "          39, 34, 24, 25, 18, 40, 33, 32, 23, 25, 19, 39, 38, 36, 32, 27, 22, 40, 28, 29, 25, 36, 26, 28, 32, 34, 34, 21, 21, 32, 19, \n",
    "          35, 30, 35, 26, 31, 38, 34, 33, 35, 37, 38, 36, 40, 22, 30, 28, 28, 29, 36, 24, 28, 28, 28, 26, 21, 35, 22, 32, 28, 19, 33, \n",
    "          18, 22, 36, 26, 19, 26, 30, 27, 28, 24, 36, 37, 20, 32, 38, 39, 38, 30, 32, 30, 26, 23, 19, 29, 33, 34, 23, 30, 32, 40, 36, \n",
    "          29, 39, 34, 34, 22, 22, 22, 36, 38, 38, 30, 26, 40, 34, 21, 34, 38, 32, 35, 35, 26, 28, 20, 40, 23, 24, 26, 24, 39, 21, 33, \n",
    "          31, 39, 39, 20, 22, 18, 23, 36, 32, 37, 36, 26, 30, 30, 30, 21, 22, 40, 38, 22, 27, 23, 21, 22, 20, 30, 31, 40, 19, 32, 24, \n",
    "          21, 27, 32, 30, 34, 18, 25, 22, 40, 23, 19, 24, 24, 25, 40, 27, 29, 22, 39, 38, 34, 39, 30, 31, 33, 34, 25, 20, 20, 20, 20, \n",
    "          24, 19, 21, 31, 31, 29, 38, 39, 33, 40, 24, 38, 37, 18, 24, 38, 38, 22, 40, 21, 36, 30, 21, 30, 35, 20, 25, 25, 29, 30, 20, \n",
    "          29, 29, 31, 20, 26, 26, 38, 37, 39, 31, 35, 36, 30, 38, 36, 23, 39, 39, 20, 30, 34, 21, 23, 21, 33, 30, 33, 32, 36, 18, 31, \n",
    "          32, 25, 23, 23, 21, 34, 18, 40, 21, 29, 29, 21, 38, 35, 38, 32, 38, 27, 23, 33, 29, 19, 20, 35, 29, 27, 28, 20, 40, 35, 40, \n",
    "          40, 20, 36, 38, 28, 30, 30, 36, 29, 27, 25, 33, 19, 27, 28, 34, 36, 27, 40, 38, 37, 31, 33, 38, 36, 25, 23, 22, 23, 34, 26, \n",
    "          24, 28, 32, 22, 18, 29, 19, 21, 27, 28, 35, 30, 40, 28, 37, 34, 24, 40, 33, 29, 30, 36, 25, 26, 26, 28, 34, 39, 34, 26, 24, \n",
    "          33, 38, 37, 36, 34, 37, 33, 25, 27, 30, 26, 21, 40, 26, 25, 25, 40, 28, 35, 36, 39, 33, 36, 40, 32, 36, 26, 24, 36, 27, 28, \n",
    "          26, 37, 36, 37, 36, 20, 34, 30, 32, 40, 20, 31, 23, 27, 19, 24, 23, 24, 25, 36, 26, 33, 30, 27, 26, 28, 28, 21, 31, 24, 27, \n",
    "          24, 29, 29, 28, 22, 20, 23, 35, 30, 37, 31, 31, 21, 32, 29, 27, 27, 30, 39, 34, 23, 35, 39, 27, 40, 28, 36, 35, 38, 21, 18, \n",
    "          21, 38, 37, 24, 21, 25, 35, 27, 35, 24, 36, 32, 20]\n",
    "\n",
    "wage=[17000, 13000, 28000, 45000, 28000, 1200, 15500, 26400, 14000, 35000, 16400, 50000, 2600, 9000, 27000, 150000, \n",
    "             32000, 22000, 65000, 56000, 6500, 30000, 70000, 9000, 6000, 34000, 40000, 30000, 6400, 87000, 20000, 45000, 4800, \n",
    "             34000, 75000, 26000, 4000, 50000, 63000, 14700, 45000, 42000, 10000, 40000, 70000, 14000, 54000, 14000, 23000, 24400, \n",
    "             27900, 4700, 8000, 19000, 17300, 45000, 3900, 2900, 138000, 2100, 60000, 55000, 45000, 40000, 45700, 90000, 40000, 13000, \n",
    "             30000, 2000, 75000, 60000, 70000, 41000, 42000, 31000, 39000, 104000, 52000, 20000, 59000, 66000, 63000, 32000, 11000, \n",
    "             16000, 6400, 17000, 47700, 5000, 25000, 35000, 20000, 14000, 29000, 267000, 31000, 27000, 64000, 39600, 267000, 7100, \n",
    "             33000, 31500, 40000, 23000, 3000, 14000, 44000, 15100, 2600, 6200, 50000, 3000, 25000, 2000, 38000, 22000, 20000, 2500, \n",
    "             1500, 42000, 30000, 27000, 7000, 11900, 27000, 24000, 4300, 30200, 2500, 30000, 70000, 38700, 8000, 36000, 66000, 24000, \n",
    "             95000, 39000, 20000, 23000, 56000, 25200, 62000, 12000, 13000, 35000, 35000, 14000, 24000, 12000, 14000, 31000, 40000, \n",
    "             22900, 12000, 14000, 1600, 12000, 80000, 90000, 126000, 1600, 100000, 8000, 71000, 40000, 42000, 40000, 120000, 35000, \n",
    "             1200, 4000, 32000, 8000, 14500, 65000, 15000, 3000, 2000, 23900, 1000, 22000, 18200, 8000, 30000, 23000, 30000, 27000, \n",
    "             70000, 40000, 18000, 3100, 57000, 25000, 32000, 10000, 4000, 49000, 93000, 35000, 49000, 40000, 5500, 30000, 25000, \n",
    "             5700, 6000, 30000, 42900, 8000, 5300, 90000, 85000, 15000, 17000, 5600, 11500, 52000, 1000, 42000, 2100, 50000, 1500, \n",
    "             40000, 28000, 5300, 149000, 3200, 12000, 83000, 45000, 31200, 25000, 72000, 70000, 7000, 23000, 40000, 40000, 28000, \n",
    "             10000, 48000, 20000, 60000, 19000, 25000, 39000, 68000, 2300, 23900, 5000, 16300, 80000, 45000, 12000, 9000, 1300, 35000, \n",
    "             35000, 47000, 32000, 18000, 20000, 20000, 23400, 48000, 8000, 5200, 33500, 22000, 22000, 52000, 104000, 28000, 13000, \n",
    "             12000, 15000, 53000, 27000, 50000, 13900, 23000, 28100, 23000, 12000, 55000, 83000, 31000, 33200, 45000, 3000, 18000, \n",
    "             11000, 41000, 36000, 33600, 38000, 45000, 53000, 24000, 3000, 37500, 7700, 4800, 29000, 6600, 12400, 20000, 2000, 1100, \n",
    "             55000, 13400, 10000, 6000, 6000, 16000, 19000, 8300, 52000, 58000, 27000, 25000, 80000, 10000, 22000, 18000, 21000, 8000, \n",
    "             15200, 15000, 5000, 50000, 89000, 7000, 65000, 58000, 42000, 55000, 40000, 14000, 36000, 30000, 7900, 6000, 1200, 10000, \n",
    "             54000, 12800, 35000, 34000, 40000, 45000, 9600, 3300, 39000, 22000, 40000, 68000, 24400, 1000, 10800, 8400, 50000, 22000, \n",
    "             20000, 20000, 1300, 9000, 14200, 32000, 65000, 18000, 18000, 3000, 16700, 1500, 1400, 15000, 55000, 42000, 70000, 35000, \n",
    "             21600, 5800, 35000, 5700, 1700, 40000, 40000, 45000, 25000, 13000, 6400, 11000, 4200, 30000, 32000, 120000, 10000, 19000, \n",
    "             12000, 13000, 37000, 40000, 38000, 60000, 3100, 16000, 18000, 130000, 5000, 5000, 35000, 1000, 14300, 100000, 20000, \n",
    "             33000, 8000, 9400, 87000, 2500, 12000, 12000, 33000, 16500, 25500, 7200, 2300, 3100, 2100, 3200, 45000, 40000, 3800, \n",
    "             30000, 12000, 62000, 45000, 46000, 50000, 40000, 13000, 50000, 23000, 4000, 40000, 25000, 16000, 3000, 80000, 27000, \n",
    "             68000, 3500, 1300, 10000, 46000, 5800, 24000, 12500, 50000, 48000, 29000, 19000, 26000, 30000, 10000, 10000, 20000, \n",
    "             43000, 105000, 55000, 5000, 65000, 68000, 38000, 47000, 48700, 6100, 55000, 30000, 5000, 3500, 23400, 11400, 7000, 1300, \n",
    "             80000, 65000, 45000, 19000, 3000, 17100, 22900, 31200, 35000, 3000, 5000, 1000, 36000, 4800, 60000, 9800, 30000, 85000, \n",
    "             18000, 24000, 60000, 30000, 2000, 39000, 12000, 10500, 60000, 36000, 10500, 3600, 1200, 28600, 48000, 20800, 5400, 9600, \n",
    "             30000, 30000, 20000, 6700, 30000, 3200, 42000, 37000, 5000, 18000, 20000, 14000, 12000, 18000, 3000, 13500, 35000, 38000, \n",
    "             30000, 36000, 66000, 45000, 32000, 46000, 80000, 27000, 4000, 21000, 7600, 16000, 10300, 27000, 19000, 14000, 19000, 3100, \n",
    "             20000, 2700, 27000, 7000, 13600, 75000, 35000, 36000, 25000, 6000, 36000, 50000, 46000, 3000, 37000, 40000, 30000, 48800, \n",
    "             19700, 16000, 14000, 12000, 25000, 25000, 28600, 17000, 31200, 57000, 23000, 23500, 46000, 18700, 26700, 9900, 16000, 3000, \n",
    "             52000, 51000, 14000, 14400, 27000, 26000, 60000, 25000, 6000, 20000, 3000, 69000, 24800, 12000, 3100, 18000, 20000, 267000, \n",
    "             28000, 9800, 18200, 80000, 6800, 21100, 20000, 68000, 20000, 45000, 8000, 40000, 31900, 28000, 24000, 2000, 32000, 11000, \n",
    "             20000, 5900, 16100, 23900, 40000, 37500, 11000, 55000, 37500, 60000, 23000, 9500, 34500, 4000, 9000, 11200, 35200, 30000, \n",
    "             18000, 21800, 19700, 16700, 12500, 11300, 4000, 39000, 32000, 14000, 65000, 50000, 2000, 30400, 22000, 1600, 56000, 40000, \n",
    "             85000, 9000, 10000, 19000, 5300, 5200, 43000, 60000, 50000, 38000, 267000, 15600, 1800, 17000, 45000, 31000, 5000, 8000, \n",
    "             43000, 103000, 45000, 8800, 26000, 47000, 40000, 8000]\n",
    "\n",
    "ageWage = pd.DataFrame({'age': age, 'wage': wage}, columns=['age', 'wage'])\n",
    "ageWage.plot(kind='scatter', x='age', y='wage', s=50)"
   ]
  },
  {
   "cell_type": "code",
   "execution_count": 23,
   "metadata": {
    "collapsed": false
   },
   "outputs": [
    {
     "data": {
      "image/png": "[encoded data removed]",
      "text/plain": [
       "<matplotlib.figure.Figure at 0x9754128>"
      ]
     },
     "metadata": {},
     "output_type": "display_data"
    }
   ],
   "source": [
    "ageWage['age'].plot(kind='hist', alpha=0.5);"
   ]
  },
  {
   "cell_type": "code",
   "execution_count": 24,
   "metadata": {
    "collapsed": false
   },
   "outputs": [
    {
     "data": {
      "image/png": "[encoded data removed]",
      "text/plain": [
       "<matplotlib.figure.Figure at 0x5349c88>"
      ]
     },
     "metadata": {},
     "output_type": "display_data"
    }
   ],
   "source": [
    "ageWage['wage'].plot(kind='hist', alpha=0.5);"
   ]
  },
  {
   "cell_type": "markdown",
   "metadata": {},
   "source": [
    "## Admissions Case Study\n",
    "* Simson's Paradox\n",
    "* Is the admissions at UC Berkeley gender biased?"
   ]
  },
  {
   "cell_type": "code",
   "execution_count": 25,
   "metadata": {
    "collapsed": false
   },
   "outputs": [
    {
     "data": {
      "text/plain": [
       "50.0"
      ]
     },
     "execution_count": 25,
     "metadata": {},
     "output_type": "execute_result"
    }
   ],
   "source": [
    "def percent(applied, admitted):\n",
    "    percent = (admitted / applied) * 100\n",
    "    return percent\n",
    "\n",
    "maleAppliedMajorA = 900\n",
    "maleAdmittedMajorA = 450\n",
    "malePercentMajorA = percent(maleAppliedMajorA, maleAdmittedMajorA)\n",
    "malePercentMajorA"
   ]
  },
  {
   "cell_type": "code",
   "execution_count": 26,
   "metadata": {
    "collapsed": false
   },
   "outputs": [
    {
     "data": {
      "text/plain": [
       "10.0"
      ]
     },
     "execution_count": 26,
     "metadata": {},
     "output_type": "execute_result"
    }
   ],
   "source": [
    "maleAppliedMajorB = 100\n",
    "maleAdmittedMajorB  = 10\n",
    "malePercentMajorB = percent(maleAppliedMajorB, maleAdmittedMajorB)\n",
    "malePercentMajorB"
   ]
  },
  {
   "cell_type": "code",
   "execution_count": 27,
   "metadata": {
    "collapsed": false
   },
   "outputs": [
    {
     "data": {
      "text/plain": [
       "80.0"
      ]
     },
     "execution_count": 27,
     "metadata": {},
     "output_type": "execute_result"
    }
   ],
   "source": [
    "femaleAppliedMajorA = 100\n",
    "femaleAdmittedMajorA = 80\n",
    "femalePercentMajorA = percent(femaleAppliedMajorA, femaleAdmittedMajorA)\n",
    "femalePercentMajorA"
   ]
  },
  {
   "cell_type": "code",
   "execution_count": 28,
   "metadata": {
    "collapsed": false
   },
   "outputs": [
    {
     "data": {
      "text/plain": [
       "20.0"
      ]
     },
     "execution_count": 28,
     "metadata": {},
     "output_type": "execute_result"
    }
   ],
   "source": [
    "femaleAppliedMajorB = 900\n",
    "femaleAdmittedMajorB = 180\n",
    "femalePercentMajorB = percent(femaleAppliedMajorB, femaleAdmittedMajorB)\n",
    "femalePercentMajorB"
   ]
  },
  {
   "cell_type": "code",
   "execution_count": 29,
   "metadata": {
    "collapsed": false
   },
   "outputs": [
    {
     "data": {
      "text/plain": [
       "46.0"
      ]
     },
     "execution_count": 29,
     "metadata": {},
     "output_type": "execute_result"
    }
   ],
   "source": [
    "maleApplied = 1000\n",
    "maleAdmitted = 460\n",
    "malePercent = percent(maleApplied, maleAdmitted)\n",
    "malePercent"
   ]
  },
  {
   "cell_type": "code",
   "execution_count": 30,
   "metadata": {
    "collapsed": false
   },
   "outputs": [
    {
     "data": {
      "text/plain": [
       "26.0"
      ]
     },
     "execution_count": 30,
     "metadata": {},
     "output_type": "execute_result"
    }
   ],
   "source": [
    "femaleApplied = 1000\n",
    "femaleAdmitted = 260\n",
    "femalePercent = percent(femaleApplied, femaleAdmitted)\n",
    "femalePercent"
   ]
  },
  {
   "cell_type": "markdown",
   "metadata": {},
   "source": [
    "## Probability"
   ]
  },
  {
   "cell_type": "code",
   "execution_count": 31,
   "metadata": {
    "collapsed": true
   },
   "outputs": [],
   "source": [
    "coinToss = ['heads', 'heads', 'heads']"
   ]
  },
  {
   "cell_type": "markdown",
   "metadata": {},
   "source": [
    "### Fair Coin: "
   ]
  },
  {
   "cell_type": "markdown",
   "metadata": {},
   "source": [
    "\\begin{equation*}\n",
    "P(Heads) = 0.5\n",
    "\\end{equation*}\n",
    "\n",
    "\\begin{equation*}\n",
    "P(Tails) = 0.5\n",
    "\\end{equation*}"
   ]
  },
  {
   "cell_type": "markdown",
   "metadata": {},
   "source": [
    "### Loaded Coin: "
   ]
  },
  {
   "cell_type": "markdown",
   "metadata": {},
   "source": [
    "\\begin{equation*}\n",
    "P(Heads) = 1\n",
    "\\end{equation*}\n",
    "\n",
    "\\begin{equation*}\n",
    "P(Tails) = 0\n",
    "\\end{equation*}"
   ]
  },
  {
   "cell_type": "markdown",
   "metadata": {},
   "source": [
    "### Our Probability Rule:"
   ]
  },
  {
   "cell_type": "markdown",
   "metadata": {},
   "source": [
    "\\begin{equation*}\n",
    "P(Heads) + P(Tails) = 1\n",
    "\\end{equation*}"
   ]
  },
  {
   "cell_type": "markdown",
   "metadata": {},
   "source": [
    "### What is the probability of getting Heads twice?"
   ]
  },
  {
   "cell_type": "markdown",
   "metadata": {},
   "source": [
    "\\begin{equation*}\n",
    "P(H, H) = 0.25\n",
    "\\end{equation*}"
   ]
  },
  {
   "cell_type": "markdown",
   "metadata": {},
   "source": [
    "\\begin{equation*}\n",
    "P(H, H) = P(H) \\times P(H)\n",
    "\\end{equation*}"
   ]
  },
  {
   "cell_type": "markdown",
   "metadata": {},
   "source": [
    "### What is the probabilty of getting Heads once while flipping 3 times?"
   ]
  },
  {
   "cell_type": "markdown",
   "metadata": {},
   "source": [
    "\\begin{equation*}\n",
    "P(H) = 0.5\n",
    "\\end{equation*}\n",
    "\n",
    "\\begin{equation*}\n",
    "P(H, T, T) = 0.375\n",
    "\\end{equation*}"
   ]
  },
  {
   "cell_type": "markdown",
   "metadata": {},
   "source": [
    "### Dice\n",
    "\\begin{equation*}\n",
    "P( ) = 1/6\n",
    "\\end{equation*}\n",
    "\n",
    "\\begin{equation*}\n",
    "P(Die = Even) = 0.5\n",
    "\\end{equation*}"
   ]
  },
  {
   "cell_type": "markdown",
   "metadata": {},
   "source": [
    "### Throw a fair die twice!\n",
    "\\begin{equation*}\n",
    "P(double) = 1/6\n",
    "\\end{equation*}"
   ]
  },
  {
   "cell_type": "markdown",
   "metadata": {},
   "source": [
    "## Conditional Probability\n"
   ]
  },
  {
   "cell_type": "markdown",
   "metadata": {
    "collapsed": true
   },
   "source": [
    "###Let's say the probability of having cancer or not having cancer is as follows:\n",
    "\n",
    "\\begin{equation*}\n",
    "P(Cancer) = 0.1\n",
    "\\end{equation*}\n",
    "\n",
    "\\begin{equation*}\n",
    "P(\\lnot Cancer) = 0.9\n",
    "\\end{equation*}\n",
    "\n",
    "### If we were to run a test (like a blood test) to determine cancer, the probability that a positive test result for cancer (with the person also having cancer) would be:\n",
    "\n",
    "\\begin{equation*}\n",
    "P(Positive | Cancer) = 0.9\n",
    "\\end{equation*}\n",
    "\n",
    "### The probability the test result shows negative for cancer (even though the person has cancer) would be:\n",
    "\n",
    "\\begin{equation*}\n",
    "P(Negative | Cancer) = 0.9\n",
    "\\end{equation*}\n",
    "\n",
    "### The probability that a positive test result for cancer (with the person not having cancer) would be:\n",
    "\n",
    "\\begin{equation*}\n",
    "P(Positive | \\lnot Cancer) = 0.2\n",
    "\\end{equation*}\n",
    "\n",
    "### The probability the test result shows negative for cancer (even though the person does not have cancer) would be:\n",
    "\n",
    "\\begin{equation*}\n",
    "P(Negative | \\lnot Cancer) = 0.8\n",
    "\\end{equation*}"
   ]
  },
  {
   "cell_type": "markdown",
   "metadata": {},
   "source": [
    "### Truth Table for Conditional Probability Example"
   ]
  },
  {
   "cell_type": "code",
   "execution_count": 32,
   "metadata": {
    "collapsed": false
   },
   "outputs": [],
   "source": [
    "cancer = ['Y', 'Y', 'N', 'N']\n",
    "test = ['P', 'N', 'P', 'N']\n",
    "prob = [0.09, 0.01, 0.18, 0.72]"
   ]
  },
  {
   "cell_type": "code",
   "execution_count": 33,
   "metadata": {
    "collapsed": false
   },
   "outputs": [
    {
     "data": {
      "text/html": [
       "<div style=\"max-height:1000px;max-width:1500px;overflow:auto;\">\n",
       "<table border=\"1\" class=\"dataframe\">\n",
       "  <thead>\n",
       "    <tr style=\"text-align: right;\">\n",
       "      <th></th>\n",
       "      <th>cancer</th>\n",
       "      <th>test</th>\n",
       "      <th>prob</th>\n",
       "    </tr>\n",
       "  </thead>\n",
       "  <tbody>\n",
       "    <tr>\n",
       "      <th>0</th>\n",
       "      <td>Y</td>\n",
       "      <td>P</td>\n",
       "      <td>0.09</td>\n",
       "    </tr>\n",
       "    <tr>\n",
       "      <th>1</th>\n",
       "      <td>Y</td>\n",
       "      <td>N</td>\n",
       "      <td>0.01</td>\n",
       "    </tr>\n",
       "    <tr>\n",
       "      <th>2</th>\n",
       "      <td>N</td>\n",
       "      <td>P</td>\n",
       "      <td>0.18</td>\n",
       "    </tr>\n",
       "    <tr>\n",
       "      <th>3</th>\n",
       "      <td>N</td>\n",
       "      <td>N</td>\n",
       "      <td>0.72</td>\n",
       "    </tr>\n",
       "  </tbody>\n",
       "</table>\n",
       "</div>"
      ],
      "text/plain": [
       "  cancer test  prob\n",
       "0      Y    P  0.09\n",
       "1      Y    N  0.01\n",
       "2      N    P  0.18\n",
       "3      N    N  0.72"
      ]
     },
     "execution_count": 33,
     "metadata": {},
     "output_type": "execute_result"
    }
   ],
   "source": [
    "cancer = pd.Series(cancer)\n",
    "test = pd.Series(test)\n",
    "prob = pd.Series(prob)\n",
    "d = {'cancer': cancer, 'test': test, 'prob': prob}\n",
    "truthTable = pd.DataFrame(d, columns=['cancer', 'test', 'prob'])\n",
    "truthTable"
   ]
  },
  {
   "cell_type": "markdown",
   "metadata": {},
   "source": [
    "### Total Probability\n",
    "\\begin{equation*}\n",
    "P(P) = P(P|C) \\times P(C) + P(P|\\neg C) \\times P(\\neg C)\n",
    "\\end{equation*}"
   ]
  },
  {
   "cell_type": "markdown",
   "metadata": {},
   "source": [
    "### A Bag with two coins; one fair, one not:\n",
    "\n",
    "#### First, the fair coin's probability:\n",
    "\\begin{equation*}\n",
    "P_{1}(H) = 0.5\\\\\n",
    "P_{1}(T) = 0.5\n",
    "\\end{equation*}\n",
    "\n",
    "#### Second, the trick coin's probability:\n",
    "\\begin{equation*}\n",
    "P_{2}(H) = 0.9\\\\\n",
    "P_{2}(T) = 0.1\n",
    "\\end{equation*}"
   ]
  },
  {
   "cell_type": "markdown",
   "metadata": {},
   "source": [
    "### What is the probability that we would pick heads if we remove one coin from the bag?\n",
    "\n",
    "#### That is, what is:\n",
    "\\begin{equation*}\n",
    "P(H) = ?\n",
    "\\end{equation*}"
   ]
  },
  {
   "cell_type": "code",
   "execution_count": 34,
   "metadata": {
    "collapsed": false
   },
   "outputs": [
    {
     "data": {
      "text/html": [
       "<div style=\"max-height:1000px;max-width:1500px;overflow:auto;\">\n",
       "<table border=\"1\" class=\"dataframe\">\n",
       "  <thead>\n",
       "    <tr style=\"text-align: right;\">\n",
       "      <th></th>\n",
       "      <th>pick</th>\n",
       "      <th>flip</th>\n",
       "      <th>prob</th>\n",
       "    </tr>\n",
       "  </thead>\n",
       "  <tbody>\n",
       "    <tr>\n",
       "      <th>0</th>\n",
       "      <td>1</td>\n",
       "      <td>H</td>\n",
       "      <td>0.25</td>\n",
       "    </tr>\n",
       "    <tr>\n",
       "      <th>1</th>\n",
       "      <td>1</td>\n",
       "      <td>T</td>\n",
       "      <td>0.25</td>\n",
       "    </tr>\n",
       "    <tr>\n",
       "      <th>2</th>\n",
       "      <td>2</td>\n",
       "      <td>H</td>\n",
       "      <td>0.45</td>\n",
       "    </tr>\n",
       "    <tr>\n",
       "      <th>3</th>\n",
       "      <td>2</td>\n",
       "      <td>T</td>\n",
       "      <td>0.45</td>\n",
       "    </tr>\n",
       "  </tbody>\n",
       "</table>\n",
       "</div>"
      ],
      "text/plain": [
       "   pick flip  prob\n",
       "0     1    H  0.25\n",
       "1     1    T  0.25\n",
       "2     2    H  0.45\n",
       "3     2    T  0.45"
      ]
     },
     "execution_count": 34,
     "metadata": {},
     "output_type": "execute_result"
    }
   ],
   "source": [
    "pick = [1, 1, 2, 2]\n",
    "flip = ['H', 'T', 'H', 'T']\n",
    "prob = [0.25, 0.25, 0.45, 0.45]\n",
    "pcik = pd.Series(pick)\n",
    "flip = pd.Series(flip)\n",
    "prob = pd.Series(prob)\n",
    "d = {'pick': pick, 'flip': flip, 'prob': prob}\n",
    "truthTable = pd.DataFrame(d, columns=['pick', 'flip', 'prob'])\n",
    "truthTable"
   ]
  },
  {
   "cell_type": "markdown",
   "metadata": {},
   "source": [
    "#### So, the probability is found when we add index 0 and index 2 together in the truth table above:\n",
    "\\begin{equation*}\n",
    "P(H) = 0.7\n",
    "\\end{equation*}"
   ]
  },
  {
   "cell_type": "markdown",
   "metadata": {},
   "source": [
    "#### If we uped the ante and fliped the coin twice, so, what is the probability of:\n",
    "\\begin{equation*}\n",
    "P(H, T) = ?\n",
    "\\end{equation*}"
   ]
  },
  {
   "cell_type": "code",
   "execution_count": 35,
   "metadata": {
    "collapsed": false
   },
   "outputs": [
    {
     "data": {
      "text/html": [
       "<div style=\"max-height:1000px;max-width:1500px;overflow:auto;\">\n",
       "<table border=\"1\" class=\"dataframe\">\n",
       "  <thead>\n",
       "    <tr style=\"text-align: right;\">\n",
       "      <th></th>\n",
       "      <th>pick</th>\n",
       "      <th>flip1</th>\n",
       "      <th>flip2</th>\n",
       "      <th>prob</th>\n",
       "    </tr>\n",
       "  </thead>\n",
       "  <tbody>\n",
       "    <tr>\n",
       "      <th>0</th>\n",
       "      <td>1</td>\n",
       "      <td>H</td>\n",
       "      <td>H</td>\n",
       "      <td>/</td>\n",
       "    </tr>\n",
       "    <tr>\n",
       "      <th>1</th>\n",
       "      <td>1</td>\n",
       "      <td>H</td>\n",
       "      <td>T</td>\n",
       "      <td>0.125</td>\n",
       "    </tr>\n",
       "    <tr>\n",
       "      <th>2</th>\n",
       "      <td>1</td>\n",
       "      <td>T</td>\n",
       "      <td>H</td>\n",
       "      <td>/</td>\n",
       "    </tr>\n",
       "    <tr>\n",
       "      <th>3</th>\n",
       "      <td>1</td>\n",
       "      <td>T</td>\n",
       "      <td>T</td>\n",
       "      <td>/</td>\n",
       "    </tr>\n",
       "    <tr>\n",
       "      <th>4</th>\n",
       "      <td>2</td>\n",
       "      <td>H</td>\n",
       "      <td>H</td>\n",
       "      <td>/</td>\n",
       "    </tr>\n",
       "    <tr>\n",
       "      <th>5</th>\n",
       "      <td>2</td>\n",
       "      <td>H</td>\n",
       "      <td>T</td>\n",
       "      <td>0.045</td>\n",
       "    </tr>\n",
       "    <tr>\n",
       "      <th>6</th>\n",
       "      <td>2</td>\n",
       "      <td>T</td>\n",
       "      <td>H</td>\n",
       "      <td>/</td>\n",
       "    </tr>\n",
       "    <tr>\n",
       "      <th>7</th>\n",
       "      <td>2</td>\n",
       "      <td>T</td>\n",
       "      <td>T</td>\n",
       "      <td>/</td>\n",
       "    </tr>\n",
       "  </tbody>\n",
       "</table>\n",
       "</div>"
      ],
      "text/plain": [
       "   pick flip1 flip2   prob\n",
       "0     1     H     H      /\n",
       "1     1     H     T  0.125\n",
       "2     1     T     H      /\n",
       "3     1     T     T      /\n",
       "4     2     H     H      /\n",
       "5     2     H     T  0.045\n",
       "6     2     T     H      /\n",
       "7     2     T     T      /"
      ]
     },
     "execution_count": 35,
     "metadata": {},
     "output_type": "execute_result"
    }
   ],
   "source": [
    "pick = [1, 1, 1, 1, 2, 2, 2, 2]\n",
    "flip1 = ['H', 'H', 'T', 'T', 'H', 'H', 'T', 'T']\n",
    "flip2 = ['H', 'T', 'H', 'T', 'H', 'T', 'H', 'T']\n",
    "prob = ['/', 0.125, '/', '/', '/', 0.045, '/', '/']\n",
    "d = {'pick': pick, 'flip1': flip1, 'flip2': flip2, 'prob': prob}\n",
    "truthTable = pd.DataFrame(d, columns=['pick', 'flip1', 'flip2', 'prob'])\n",
    "truthTable"
   ]
  },
  {
   "cell_type": "markdown",
   "metadata": {},
   "source": [
    "### Add the two probabilities together and we get:\n",
    "\n",
    "\\begin{equation*}\n",
    "\\sum = 0.17\n",
    "\\end{equation*}\n",
    "\n",
    "### This means that the probability that you reach in the bag, pull either of the coins out, that the first flip is heads and that the second flip is tails equals:\n",
    "\n",
    "\\begin{equation*}\n",
    "P(H, T) = 0.17\n",
    "\\end{equation*}"
   ]
  },
  {
   "cell_type": "markdown",
   "metadata": {},
   "source": [
    "### Test question!\n",
    "\n",
    "#### Say we have two coins in the bag.  This time, however, both coins are trick coins.  Below is the probabilities given:\n",
    "\n",
    "\\begin{equation*}\n",
    "P(1) = 0.5 \\\\\n",
    "P_{1}(H) = 1 \\\\\n",
    "P_{2}(H) = 0.6\n",
    "\\end{equation*}\n",
    "\n",
    "#### Given the above, what is following probability?\n",
    "\n",
    "\\begin{equation*}\n",
    "P(T, T)\n",
    "\\end{equation*}"
   ]
  },
  {
   "cell_type": "markdown",
   "metadata": {},
   "source": [
    "#### So, we can infer the following:\n",
    "\n",
    "\\begin{equation*}\n",
    "P_{1}(T) = 0 \\\\\n",
    "P_{2}(T) = 0.4\n",
    "\\end{equation*}\n",
    "\n",
    "#### We can created the following truth table:"
   ]
  },
  {
   "cell_type": "code",
   "execution_count": 36,
   "metadata": {
    "collapsed": false
   },
   "outputs": [
    {
     "data": {
      "text/html": [
       "<div style=\"max-height:1000px;max-width:1500px;overflow:auto;\">\n",
       "<table border=\"1\" class=\"dataframe\">\n",
       "  <thead>\n",
       "    <tr style=\"text-align: right;\">\n",
       "      <th></th>\n",
       "      <th>pick</th>\n",
       "      <th>flip1</th>\n",
       "      <th>flip2</th>\n",
       "      <th>prob</th>\n",
       "    </tr>\n",
       "  </thead>\n",
       "  <tbody>\n",
       "    <tr>\n",
       "      <th>0</th>\n",
       "      <td>1</td>\n",
       "      <td>H</td>\n",
       "      <td>H</td>\n",
       "      <td>/</td>\n",
       "    </tr>\n",
       "    <tr>\n",
       "      <th>1</th>\n",
       "      <td>1</td>\n",
       "      <td>H</td>\n",
       "      <td>T</td>\n",
       "      <td>/</td>\n",
       "    </tr>\n",
       "    <tr>\n",
       "      <th>2</th>\n",
       "      <td>1</td>\n",
       "      <td>T</td>\n",
       "      <td>H</td>\n",
       "      <td>/</td>\n",
       "    </tr>\n",
       "    <tr>\n",
       "      <th>3</th>\n",
       "      <td>1</td>\n",
       "      <td>T</td>\n",
       "      <td>T</td>\n",
       "      <td>0</td>\n",
       "    </tr>\n",
       "    <tr>\n",
       "      <th>4</th>\n",
       "      <td>2</td>\n",
       "      <td>H</td>\n",
       "      <td>H</td>\n",
       "      <td>/</td>\n",
       "    </tr>\n",
       "    <tr>\n",
       "      <th>5</th>\n",
       "      <td>2</td>\n",
       "      <td>H</td>\n",
       "      <td>T</td>\n",
       "      <td>/</td>\n",
       "    </tr>\n",
       "    <tr>\n",
       "      <th>6</th>\n",
       "      <td>2</td>\n",
       "      <td>T</td>\n",
       "      <td>H</td>\n",
       "      <td>/</td>\n",
       "    </tr>\n",
       "    <tr>\n",
       "      <th>7</th>\n",
       "      <td>2</td>\n",
       "      <td>T</td>\n",
       "      <td>T</td>\n",
       "      <td>0.08</td>\n",
       "    </tr>\n",
       "  </tbody>\n",
       "</table>\n",
       "</div>"
      ],
      "text/plain": [
       "   pick flip1 flip2  prob\n",
       "0     1     H     H     /\n",
       "1     1     H     T     /\n",
       "2     1     T     H     /\n",
       "3     1     T     T     0\n",
       "4     2     H     H     /\n",
       "5     2     H     T     /\n",
       "6     2     T     H     /\n",
       "7     2     T     T  0.08"
      ]
     },
     "execution_count": 36,
     "metadata": {},
     "output_type": "execute_result"
    }
   ],
   "source": [
    "pick = [1, 1, 1, 1, 2, 2, 2, 2]\n",
    "flip1 = ['H', 'H', 'T', 'T', 'H', 'H', 'T', 'T']\n",
    "flip2 = ['H', 'T', 'H', 'T', 'H', 'T', 'H', 'T']\n",
    "prob = ['/', '/', '/', 0, '/', '/', '/', 0.08]\n",
    "d = {'pick': pick, 'flip1': flip1, 'flip2': flip2, 'prob': prob}\n",
    "truthTable = pd.DataFrame(d, columns=['pick', 'flip1', 'flip2', 'prob'])\n",
    "truthTable"
   ]
  },
  {
   "cell_type": "markdown",
   "metadata": {},
   "source": [
    "#### Since the probability of our expected outcome with coint one is impossible, that value in our truth table is zero.  Add that together with the probability that we pick coin two, with the outcomes we're looking for, and we get:\n",
    "\n",
    "\\begin{equation*}\n",
    "\\sum = 0.08\n",
    "\\end{equation*}\n",
    "\n",
    "#### Which means:\n",
    "\n",
    "\\begin{equation*}\n",
    "P(T, T) = 0.08\n",
    "\\end{equation*}\n"
   ]
  },
  {
   "cell_type": "markdown",
   "metadata": {},
   "source": [
    "## Bayes Rule!"
   ]
  },
  {
   "cell_type": "markdown",
   "metadata": {},
   "source": [
    "#### Let's use the cancer example.  Say you have the probability of having a certain kind of cancer as follows:\n",
    "\n",
    "\\begin{equation*}\n",
    "P(C) = 0.01\n",
    "\\end{equation*}\n",
    "\n",
    "#### if we test for it, we get these results:\n",
    "+ 90% it is _positive_ if you have Cancer (called sensitivity)\n",
    "+ 90% it is _negative_ if you don't have Cancer (called specitivity)\n",
    "\n",
    "#### Question: Test = Positive\n",
    "#### What is the probability of having that specific type of cancer?"
   ]
  },
  {
   "cell_type": "markdown",
   "metadata": {},
   "source": [
    "#### Prior:\n",
    "\\begin{equation*}\n",
    "P(C) = 0.01 \\\\\n",
    "\\end{equation*}\n",
    "\n",
    "#### Sensitivity:\n",
    "\\begin{equation*}\n",
    "P(Pos | C) = 0.9\n",
    "\\end{equation*}\n",
    "\n",
    "#### Specitivity:\n",
    "\\begin{equation*}\n",
    "P(Neg | \\neg C) = 0.9 \\\\\n",
    "\\end{equation*}\n",
    "\n",
    "#### What we can infer from the above:\n",
    "\\begin{equation*}\n",
    "P(\\neg C) = 0.99 \\\\\n",
    "P(Pos | C) = 0.9 \\\\\n",
    "P(Neg | C) = 0.1 \\\\\n",
    "P(Neg | \\neg C) = 0.9 \\\\\n",
    "P(Pos | \\neg C) = 0.1\n",
    "\\end{equation*}\n",
    "\n",
    "#### Posterior formula:\n",
    "\\begin{equation*}\n",
    "P(C|Pos) = P(C) \\times P(Pos | C) \\\\\n",
    "P(\\neg C | Pos) = P(\\neg C) \\times P(Pos|\\neg C)\n",
    "\\end{equation*}\n",
    "\n",
    "#### Let's see what numbers we get when we plug things in:\n",
    "\\begin{equation*}\n",
    "P(C) \\times P(Pos | C) = 0.009 \\\\\n",
    "P(\\neg C) \\times P(Pos|\\neg C) = 0.099\n",
    "\\end{equation*}\n",
    "\n",
    "#### Then we add them both together:\n",
    "\\begin{equation*}\n",
    "\\sum = 0.108\n",
    "\\end{equation*}\n",
    "\n",
    "#### Normalize; which is what we did above, and means specifically:\n",
    "\n",
    "\\begin{equation*}\n",
    "P(Pos) = P(C, Pos) + P(\\neg C, Pos) = 0.108\n",
    "\\end{equation*}\n",
    "\n",
    "#### Posterior; which means to take the posterior and divide by the normalization:\n",
    "\\begin{equation*}\n",
    "P(C|Pos) = 0.0833 \\\\\n",
    "P(\\neg C|Pos) = 0.9167 \\\\\n",
    "\\sum = 1\n",
    "\\end{equation*}"
   ]
  },
  {
   "cell_type": "markdown",
   "metadata": {},
   "source": [
    "### Let's do the same thing with negative rather than positive:\n",
    "\n",
    "#### Here is our prior\n",
    "\\begin{equation*}\n",
    "P(\\neg C) = 0.99\n",
    "\\end{equation*}\n",
    "\n",
    "#### Our sensitivity\n",
    "\\begin{equation*}\n",
    "P(Neg | C) = 0.1\n",
    "\\end{equation*}\n",
    "\n",
    "#### Our spesitivity\n",
    "\\begin{equation*}\n",
    "P(Pos | \\neg C) = 0.1\n",
    "\\end{equation*}\n",
    "\n",
    "#### If our test comes back negative, then how do we solve the folowing?\n",
    "\\begin{equation*}\n",
    "P(C, Neg) = ? \\\\\n",
    "P(\\neg C, Neg) = ?\n",
    "\\end{equation*}\n",
    "\n",
    "#### We use the posterior formula from above and change positive to negative!\n",
    "\\begin{equation*}\n",
    "P(C|Neg) = P(C) \\times P(Neg | C) \\\\\n",
    "P(\\neg C | Neg) = P(\\neg C) \\times P(Neg|\\neg C)\n",
    "\\end{equation*}\n",
    "\n",
    "#### Let's see what numbers we get when we plug things in:\n",
    "\\begin{equation*}\n",
    "P(C) \\times P(Neg | C) = 0.001 \\\\\n",
    "P(\\neg C) \\times P(Neg|\\neg C) = 0.891\n",
    "\\end{equation*}\n",
    "\n",
    "#### Let's compute the normalizer:\n",
    "\\begin{equation*}\n",
    "\\sum = 0.892\n",
    "\\end{equation*}\n",
    "\n",
    "#### Now we can figure out the posterior:\n",
    "\\begin{equation*}\n",
    "P(C|Neg) = 0.0011 \\\\\n",
    "P(\\neg C|Neg) = 0.9989\n",
    "\\end{equation*}\n",
    "\n",
    "#### All that's left is to make sure the figures equal 1"
   ]
  },
  {
   "cell_type": "code",
   "execution_count": 37,
   "metadata": {
    "collapsed": false
   },
   "outputs": [
    {
     "data": {
      "text/plain": [
       "1.0"
      ]
     },
     "execution_count": 37,
     "metadata": {},
     "output_type": "execute_result"
    }
   ],
   "source": [
    "0.0011 + 0.9989"
   ]
  },
  {
   "cell_type": "markdown",
   "metadata": {},
   "source": [
    "### Sample question!"
   ]
  },
  {
   "cell_type": "markdown",
   "metadata": {},
   "source": [
    "#### Prior:\n",
    "\\begin{equation*}\n",
    "P(C) = 0.1\n",
    "\\end{equation*}\n",
    "\n",
    "#### Sensitivity + Specitivity\n",
    "\\begin{equation*}\n",
    "P(Pos|C) = 0.9 \\\\\n",
    "P(Neg|\\neg C) = 0.5\n",
    "\\end{equation*}\n",
    "\n",
    "#### What can we infer?\n",
    "\\begin{equation*}\n",
    "P(\\neg C) = 0.9 \\\\\n",
    "P(Neg|C) = 0.1 \\\\\n",
    "P(Pos|\\neg C) = 0.5\n",
    "\\end{equation*}\n",
    "\n",
    "#### Now we need to solve for the following:\n",
    "\\begin{equation*}\n",
    "P(C, Neg) = 0.01 \\\\\n",
    "P(\\neg C, Neg) = 0.45\\\\\n",
    "P(Neg) = 0.46\\\\\n",
    "P(C|Neg) = 0.0217 \\\\\n",
    "P(\\neg C|Neg) = 0.9783\n",
    "\\end{equation*}\n",
    "\n",
    "#### Make sure the figures add up to 1:"
   ]
  },
  {
   "cell_type": "code",
   "execution_count": 38,
   "metadata": {
    "collapsed": false
   },
   "outputs": [
    {
     "data": {
      "text/plain": [
       "1.0"
      ]
     },
     "execution_count": 38,
     "metadata": {},
     "output_type": "execute_result"
    }
   ],
   "source": [
    "0.0217 + 0.9783"
   ]
  },
  {
   "cell_type": "markdown",
   "metadata": {},
   "source": [
    "### Quickly, let's flip the negative to positive and just solve the posteriors:\n",
    "\n",
    "\\begin{equation*}\n",
    "P(C, Pos) = 0.09 \\\\\n",
    "P(\\neg C, Pos) = 0.45 \\\\\n",
    "P(Pos) = 0.54 \\\\\n",
    "P(C|Pos) = 0.167 \\\\\n",
    "P(\\neg C|Pos) = 0.833 \\\\\n",
    "\\sum = 1\n",
    "\\end{equation*}"
   ]
  },
  {
   "cell_type": "code",
   "execution_count": 39,
   "metadata": {
    "collapsed": false
   },
   "outputs": [
    {
     "data": {
      "text/plain": [
       "1.0"
      ]
     },
     "execution_count": 39,
     "metadata": {},
     "output_type": "execute_result"
    }
   ],
   "source": [
    ".167 + .833"
   ]
  },
  {
   "cell_type": "markdown",
   "metadata": {},
   "source": [
    "### New Example for Bayes' Rule\n",
    "\n",
    "#### Robot that cannot tell which cell it's in; red or green\n",
    "\\begin{equation*}\n",
    "P(R) = 0.5 \\\\\n",
    "P(G) = 0.5 \\\\\n",
    "P(see R | at R) = 0.8 \\\\\n",
    "P(see G | at G) = 0.8\n",
    "\\end{equation*}\n",
    "\n",
    "#### So, what are our posterior probabilities?\n",
    "\\begin{equation*}\n",
    "P(at R|see R) = ? \\\\\n",
    "P(at G|see R) = ?\n",
    "\\end{equation*}"
   ]
  },
  {
   "cell_type": "markdown",
   "metadata": {},
   "source": [
    "#### First, we need to plug the numbers in\n",
    "\\begin{equation*}\n",
    "P(R) \\times P(seeR|atR) = 0.4 \\\\\n",
    "P(G) \\times P(seeR|atG) = 0.1 \\\\\n",
    "\\sum = 0.5\n",
    "\\end{equation*}\n",
    "\n",
    "#### Now we normalize\n",
    "\\begin{equation*}\n",
    "P(atR|seeR) = 0.8 \\\\\n",
    "P(atG|seeR) = 0.2\n",
    "\\end{equation*}\n",
    "\n",
    "#### Add them together"
   ]
  },
  {
   "cell_type": "code",
   "execution_count": 40,
   "metadata": {
    "collapsed": false
   },
   "outputs": [
    {
     "data": {
      "text/plain": [
       "1.0"
      ]
     },
     "execution_count": 40,
     "metadata": {},
     "output_type": "execute_result"
    }
   ],
   "source": [
    "0.8 + 0.2"
   ]
  },
  {
   "cell_type": "markdown",
   "metadata": {},
   "source": [
    "### Now we change the probability that the robot knows where it is\n",
    "\n",
    "\\begin{equation*}\n",
    "P(R) = 0 \\\\\n",
    "P(G) = 1 \\\\\n",
    "P(seeR|atR) = 0.8 \\\\\n",
    "P(seeG|atG) = 0.8\n",
    "\\end{equation*}\n",
    "\n",
    "#### What are the posterior probabilities for:\n",
    "\\begin{equation*}\n",
    "P(atR|seeR) = ? \\\\\n",
    "P(atG|seeR) = ?\n",
    "\\end{equation*}\n",
    "\n",
    "#### Plug the numbers in:\n",
    "\\begin{equation*}\n",
    "P(R) \\times P(seeR|atR) = 0 \\\\\n",
    "P(G) \\times P(seeR|atG) = 0.2 \\\\\n",
    "\\sum = 0.2\n",
    "\\end{equation*}\n",
    "\n",
    "#### Normalize\n",
    "\\begin{equation*}\n",
    "P(atR|seeR) = 0 \\\\\n",
    "P(atG|seeR) = 1\n",
    "\\end{equation*}\n",
    "\n",
    "#### Add them up!"
   ]
  },
  {
   "cell_type": "code",
   "execution_count": 41,
   "metadata": {
    "collapsed": false
   },
   "outputs": [
    {
     "data": {
      "text/plain": [
       "1"
      ]
     },
     "execution_count": 41,
     "metadata": {},
     "output_type": "execute_result"
    }
   ],
   "source": [
    "0 + 1"
   ]
  },
  {
   "cell_type": "markdown",
   "metadata": {},
   "source": [
    "### Now, we return to a normal prior, but we changed the specitivity\n",
    "\n",
    "\\begin{equation*}\n",
    "P(R) = 0.5 \\\\\n",
    "P(G) = 0.5 \\\\\n",
    "P(seeR|atR) = 0.8 \\\\\n",
    "P(seeG|atG) = 0.5\n",
    "\\end{equation*}\n",
    "\n",
    "#### What are the posterior probabilities?\n",
    "\\begin{equation*}\n",
    "P(atR|seeR) = ? \\\\\n",
    "P(atG|seeR) = ?\n",
    "\\end{equation*}\n",
    "\n",
    "#### Plug in the numbers:\n",
    "\\begin{equation*}\n",
    "P(R) \\times P(seeR|atR) = 0.4 \\\\\n",
    "P(G) \\times P(seeR|atG) = 0.25 \\\\\n",
    "\\sum = 0.65\n",
    "\\end{equation*}\n",
    "\n",
    "#### Normalize\n",
    "\\begin{equation*}\n",
    "P(atR|seeR) = 0.615 \\\\\n",
    "P(atG|seeR) = 0.385\n",
    "\\end{equation*}\n",
    "\n",
    "#### Add them up!"
   ]
  },
  {
   "cell_type": "code",
   "execution_count": 42,
   "metadata": {
    "collapsed": false
   },
   "outputs": [
    {
     "data": {
      "text/plain": [
       "1.0"
      ]
     },
     "execution_count": 42,
     "metadata": {},
     "output_type": "execute_result"
    }
   ],
   "source": [
    "0.615 + 0.385"
   ]
  },
  {
   "cell_type": "markdown",
   "metadata": {},
   "source": [
    "### Let's now assume there are three squares instead of two (still only two colors though).  Let's call the squares, A, B, and C where square A is Red and squares B and C are green.\n",
    "\n",
    "\\begin{equation*}\n",
    "P(A) = 0.333 \\\\\n",
    "P(B) = 0.333 \\\\\n",
    "P(C) = 0.333 \\\\\n",
    "P(R|A) = 0.9 \\\\\n",
    "P(G|B) = 0.9 \\\\\n",
    "P(G|C) = 0.9\n",
    "\\end{equation*}"
   ]
  },
  {
   "cell_type": "markdown",
   "metadata": {},
   "source": [
    "#### So, what are the joins?\n",
    "\\begin{equation*}\n",
    "P(A, R) = ? \\\\\n",
    "P(B,R) = ? \\\\\n",
    "P(C,R) = ?\n",
    "\\end{equation*}\n",
    "\n",
    "#### Let's plug in the numbers for all cells:\n",
    "\\begin{equation*}\n",
    "P(A) \\times P(A, R) = 0.3 \\\\\n",
    "P(B) \\times P(B, R) = 0.033 \\\\\n",
    "P(C) \\times P(C, R) = 0.033\n",
    "\\end{equation*}"
   ]
  },
  {
   "cell_type": "markdown",
   "metadata": {},
   "source": [
    "#### So, what is our normalizer?--let's add them up!\n",
    "\\begin{equation*}\n",
    "P(R) = 0.366\n",
    "\\end{equation*}"
   ]
  },
  {
   "cell_type": "markdown",
   "metadata": {},
   "source": [
    "#### Let's take our joins and find out their posterior probabilties\n",
    "\\begin{equation*}\n",
    "P(A, R) = 0.81967 \\\\\n",
    "P(B,R) = 0.09 \\\\\n",
    "P(C,R) = 0.09 \\\\\n",
    "\\sum = 1\n",
    "\\end{equation*}"
   ]
  },
  {
   "cell_type": "markdown",
   "metadata": {},
   "source": [
    "### Last Bayes' Rule Example!\n",
    "\n",
    "#### Let's say that Sebastian travels a lot and sometimes doesn't know what country he's in\n",
    "\\begin{equation*}\n",
    "P(gone) = 0.6 \\\\\n",
    "P(home) = 0.4 \\\\\n",
    "P(rain|home) = 0.01 \\\\\n",
    "P(rain|gone) = 0.3\n",
    "\\end{equation*}\n",
    "\n",
    "#### Given the above, what's the following probability?\n",
    "\\begin{equation*}\n",
    "P(Home|Rain) = ? \n",
    "\\end{equation*}"
   ]
  },
  {
   "cell_type": "markdown",
   "metadata": {},
   "source": [
    "#### First, let's plug in the numbers\n",
    "\\begin{equation*}\n",
    "P(home) \\times P(rain|home) = 0.004 \\\\\n",
    "P(gone) \\times P(rain|gone) = 0.18 \\\\\n",
    "\\sum = 0.184\n",
    "\\end{equation*}"
   ]
  },
  {
   "cell_type": "markdown",
   "metadata": {},
   "source": [
    "#### So, what's the probability?\n",
    "\\begin{equation*}\n",
    "P(Home|Rain) = 0.0217 \\\\\n",
    "P(Gone|Rain) = 0.9783 \\\\\n",
    "\\sum = 1\n",
    "\\end{equation*}"
   ]
  },
  {
   "cell_type": "markdown",
   "metadata": {},
   "source": [
    "### Now, we program Bayes' Rule\n",
    "\n",
    "#### Let's use our cancer example again with the following probabilities, however, our values will corrospond with variables:\n",
    "\\begin{equation*}\n",
    "P(C) = p0 \\\\\n",
    "P(Pos|C) = p1 \\\\\n",
    "P(Neg|\\neg C) = p2\n",
    "\\end{equation*}\n",
    "\n",
    "#### So, how can we create a function that computes this probability for the following outcome:\n",
    "\\begin{equation*}\n",
    "P(C|Neg) = ?\n",
    "\\end{equation*}"
   ]
  },
  {
   "cell_type": "code",
   "execution_count": 43,
   "metadata": {
    "collapsed": false
   },
   "outputs": [
    {
     "data": {
      "text/plain": [
       "0.013698630136986297"
      ]
     },
     "execution_count": 43,
     "metadata": {},
     "output_type": "execute_result"
    }
   ],
   "source": [
    "def f(p0, p1, p2):\n",
    "    joint1 = p0 * (1 - p1)\n",
    "    joint2 = (1-p0) * p2\n",
    "    sum = joint1 + joint2\n",
    "    return joint1 / sum\n",
    "\n",
    "f(.1, .9, .8)"
   ]
  },
  {
   "cell_type": "code",
   "execution_count": 44,
   "metadata": {
    "collapsed": false
   },
   "outputs": [
    {
     "data": {
      "text/plain": [
       "0.0033557046979865775"
      ]
     },
     "execution_count": 44,
     "metadata": {},
     "output_type": "execute_result"
    }
   ],
   "source": [
    "f(.01, .7, .9)"
   ]
  },
  {
   "cell_type": "markdown",
   "metadata": {},
   "source": [
    "### Continuous Probability Distributions\n",
    "\n",
    "#### In continuous probability distributions (spaces), every outcome has probability 0\n",
    "\n"
   ]
  },
  {
   "cell_type": "markdown",
   "metadata": {
    "collapsed": false
   },
   "source": [
    "![alt text](img/bottle.png \"Circle with bottle\")"
   ]
  },
  {
   "cell_type": "markdown",
   "metadata": {
    "collapsed": true
   },
   "source": [
    "#### Imagine we spin a bottle in the middle where the dot is--what is the probability that the object has the angle of 180 degrees?\n",
    "\\begin{equation*}\n",
    "\\rightarrow 0\n",
    "\\end{equation*}\n",
    "\n",
    "#### What about 179.99 or 179.98?\n",
    "\\begin{equation*}\n",
    "\\rightarrow 0\n",
    "\\end{equation*}\n",
    "\n",
    "### Here's our conundrum: does this mean the bottle stops nowhere?  No!  Of course it stops.\n",
    "#### It will stop, but it will have a probability and that probability is 0 (may sound counter-intuitive but is important).\n",
    "\n",
    "#### So, let's call the outcome, i.e., where the bottle stops 'x'.  Let's also figure out the following probabilities:\n",
    "\\begin{equation*}\n",
    "P(0 < x = 180^{\\circ}) = ? \\\\\n",
    "P(260^{\\circ} < x \\leq 290^{\\circ}) = ? \\\\\n",
    "P(179^{\\circ} < x \\leq 189^{\\circ}) = ?\n",
    "\\end{equation*}\n",
    "\n",
    "#### In the first example above, we can see that the circle is divided in half; so, the probability is equal to:\n",
    "\\begin{equation*}\n",
    "\\frac{1}{2} \\\\\n",
    "or \\\\\n",
    "0.5\n",
    "\\end{equation*}\n",
    "\n",
    "#### In the second example, the distance between 260 and 290 is 30, so, as a fraction that means:\n",
    "\\begin{equation*}\n",
    "\\frac{30}{360} \\\\\n",
    "or \\\\\n",
    "0.0833\n",
    "\\end{equation*}\n",
    "\n",
    "#### In the last example, even though the sliber is small, we can still put 1 over 360\n",
    "\\begin{equation*}\n",
    "\\frac{1}{360} \\\\\n",
    "or \\\\\n",
    "0.00277\n",
    "\\end{equation*}\n",
    "\n",
    "#### So, we can fill in our values:\n",
    "\\begin{equation*}\n",
    "P(0 < x = 180^{\\circ}) = 0.5 \\\\\n",
    "P(260^{\\circ} < x \\leq 290^{\\circ}) = 0.0833 \\\\\n",
    "P(179^{\\circ} < x \\leq 189^{\\circ}) = 0.00277\n",
    "\\end{equation*}\n"
   ]
  },
  {
   "cell_type": "markdown",
   "metadata": {},
   "source": [
    "### So, what we've learned is that there is a formula for solving this kind of problem\n",
    "\\begin{equation*}\n",
    "P(a < x \\leq b) = \\frac{1b - a1}{360}\n",
    "\\end{equation*}"
   ]
  },
  {
   "cell_type": "markdown",
   "metadata": {},
   "source": [
    "### Density: Probability for continuous spaces (not exactly, but it's helpful to think of it that way)\n",
    "\n",
    "#### Let's try to figure out the seconds of the date and time I was born.  If:\n",
    "\n",
    "\\begin{equation*}\n",
    "seconds: x \\\\\n",
    "P(x) = ? \\\\\n",
    "f(x) = ?\n",
    "\\end{equation*}\n",
    "\n",
    "What do we do?"
   ]
  },
  {
   "cell_type": "markdown",
   "metadata": {},
   "source": [
    "#### For the probability, we can only give a value of zero, because continuous probability distributions have an outcome probability of zero!\n",
    "#### For the density, we can work it out by looking at the distribution; our outcome lines between 1 and 60, so the outcome is:\n",
    "\n",
    "\\begin{equation*}\n",
    "\\frac{1}{60} \\\\\n",
    "or \\\\\n",
    "0.0167\n",
    "\\end{equation*}\n",
    "\n",
    "So, we can now fill in our answers:\n",
    "\n",
    "\\begin{equation*}\n",
    "P(x) = 0 \\\\\n",
    "f(x) = 0.0167\n",
    "\\end{equation*}"
   ]
  },
  {
   "cell_type": "markdown",
   "metadata": {},
   "source": [
    "### Imagine we were trying to figure out the density for a continuous space where one section of the distribution was larger or smaller than the other (aka, a non-uniform density)?  What if this were our density:\n",
    "\n",
    "\\begin{equation*}\n",
    "f(x \\leq noon) = 2 \\times f(x > noon) ?\n",
    "\\end{equation*}\n",
    "\n",
    "![alt text](img/density01.png \"births twice as high in the morning\")"
   ]
  },
  {
   "cell_type": "markdown",
   "metadata": {},
   "source": [
    "In this example, x = time of day in a normal 24 hour period.  What to do?\n",
    "\n",
    "First, we have to think of all three separate areas as containing the same volume because they need to add up to one.  This means, each of them is a third of the total volume.\n",
    "\n",
    "![alt text](img/density02.png \"volumes with 1/3\")"
   ]
  },
  {
   "cell_type": "markdown",
   "metadata": {},
   "source": [
    "If we start with the right one, there are twellve hours to cover, so:\n",
    "\n",
    "\\begin{equation*}\n",
    "b = \\frac{1}{3} \\times \\frac{1}{12}\n",
    "\\end{equation*}"
   ]
  },
  {
   "cell_type": "code",
   "execution_count": 45,
   "metadata": {
    "collapsed": false
   },
   "outputs": [
    {
     "data": {
      "text/plain": [
       "0.027777777777777776"
      ]
     },
     "execution_count": 45,
     "metadata": {},
     "output_type": "execute_result"
    }
   ],
   "source": [
    "(1 / 3) * (1 / 12)"
   ]
  },
  {
   "cell_type": "markdown",
   "metadata": {},
   "source": [
    "Which means:\n",
    "\\begin{equation*}\n",
    "b = 0.02777\n",
    "\\end{equation*}"
   ]
  },
  {
   "cell_type": "markdown",
   "metadata": {},
   "source": [
    "For a; we are covering twelve hours again, but there are two thirds volume to calculate, so:\n",
    "\\begin{equation*}\n",
    "a = \\frac{2}{3} \\times \\frac{1}{2} \\\\\n",
    "or \\\\\n",
    "2 \\times b\n",
    "\\end{equation*}\n",
    "\n"
   ]
  },
  {
   "cell_type": "code",
   "execution_count": 46,
   "metadata": {
    "collapsed": false
   },
   "outputs": [
    {
     "data": {
      "text/plain": [
       "0.05555555555555555"
      ]
     },
     "execution_count": 46,
     "metadata": {},
     "output_type": "execute_result"
    }
   ],
   "source": [
    "(2 / 3) * (1 / 12)"
   ]
  },
  {
   "cell_type": "code",
   "execution_count": 47,
   "metadata": {
    "collapsed": false
   },
   "outputs": [
    {
     "data": {
      "text/plain": [
       "0.05554"
      ]
     },
     "execution_count": 47,
     "metadata": {},
     "output_type": "execute_result"
    }
   ],
   "source": [
    "2 * 0.02777"
   ]
  },
  {
   "cell_type": "markdown",
   "metadata": {},
   "source": [
    "Which means:\n",
    "\\begin{equation*}\n",
    "a = 0.0555\n",
    "\\end{equation*}\n",
    "\n",
    "If we multiple a by 12 and add it to be by 12, what do we get?"
   ]
  },
  {
   "cell_type": "code",
   "execution_count": 48,
   "metadata": {
    "collapsed": false
   },
   "outputs": [
    {
     "data": {
      "text/plain": [
       "0.9948"
      ]
     },
     "execution_count": 48,
     "metadata": {},
     "output_type": "execute_result"
    }
   ],
   "source": [
    "a = 0.0551\n",
    "b = 0.0278\n",
    "(a * 12) + (b * 12)"
   ]
  },
  {
   "cell_type": "markdown",
   "metadata": {},
   "source": [
    "This is, for all intensive purposes, 1.  If we were to multiply with fractions and add that way it would be clearer"
   ]
  },
  {
   "cell_type": "markdown",
   "metadata": {},
   "source": [
    "### Quiz: we're dropping a package from an airplane and it takes between 3 and 3 and a half minutes to fall (uniform distribution).  If we look at the distribution, what would the value of a be?\n",
    "![alt text](img/density03.png \"airplane package drop\")"
   ]
  },
  {
   "cell_type": "markdown",
   "metadata": {},
   "source": [
    "We have to remember that the area needs to add up to one.  If we look at the the distance between 3 and 3 and a half minutes we see that\n",
    "\\begin{equation*}\n",
    "\\frac{30}{60} = 0.5 \\\\\n",
    "\\end{equation*}\n",
    "\n",
    "Which means\n",
    "\\begin{equation*}\n",
    "0.5 \\times a = 1\n",
    "\\end{equation*}\n",
    "\n",
    "So\n",
    "\\begin{equation*}\n",
    "a = 2\n",
    "\\end{equation*}\n",
    "\n",
    "This is very interesting because our density is larger than 1, probabilities are never larger than 1!  Densities can be though."
   ]
  },
  {
   "cell_type": "markdown",
   "metadata": {},
   "source": [
    "### Now we know and understand about densities, this is what we know so far:\n",
    "![alt text](img/density04.png \"what is true about densities\")"
   ]
  },
  {
   "cell_type": "markdown",
   "metadata": {},
   "source": [
    "### Correlation vs Causation\n",
    "\n",
    "Suppose I am sick and I'm trying to decide if I want to go to the hospital or not so I consult some data to help me make up my mind.  What if out of 40 people admitted to the hospital 4 die in a year.  Likewise, what if out of 8,000 people at home 20 die?"
   ]
  },
  {
   "cell_type": "code",
   "execution_count": 49,
   "metadata": {
    "collapsed": false
   },
   "outputs": [
    {
     "data": {
      "text/plain": [
       "10.0"
      ]
     },
     "execution_count": 49,
     "metadata": {},
     "output_type": "execute_result"
    }
   ],
   "source": [
    "(4 / 40) * 100"
   ]
  },
  {
   "cell_type": "code",
   "execution_count": 50,
   "metadata": {
    "collapsed": false
   },
   "outputs": [
    {
     "data": {
      "text/plain": [
       "0.25"
      ]
     },
     "execution_count": 50,
     "metadata": {},
     "output_type": "execute_result"
    }
   ],
   "source": [
    "(20 / 8000) * 100"
   ]
  },
  {
   "cell_type": "markdown",
   "metadata": {},
   "source": [
    "This means the chances of dying in a hospital are 40 times larger than at home--so, shall I go to the hospital?\n",
    "\n",
    "The hospital does not cause people to die--equally, staying at home does not protect against dying\n",
    "\n",
    "#### Now, what if we add to the example above?\n",
    "\n",
    "Say we have the following situation:\n",
    "![alt text](img/corr-caus01.png \"how many sick v healthy?\")"
   ]
  },
  {
   "cell_type": "code",
   "execution_count": 51,
   "metadata": {
    "collapsed": false
   },
   "outputs": [
    {
     "data": {
      "text/plain": [
       "11.11111111111111"
      ]
     },
     "execution_count": 51,
     "metadata": {},
     "output_type": "execute_result"
    }
   ],
   "source": [
    "(4 / 36) * 100"
   ]
  },
  {
   "cell_type": "code",
   "execution_count": 52,
   "metadata": {
    "collapsed": false
   },
   "outputs": [
    {
     "data": {
      "text/plain": [
       "0.0"
      ]
     },
     "execution_count": 52,
     "metadata": {},
     "output_type": "execute_result"
    }
   ],
   "source": [
    "(0 / 4) * 100"
   ]
  },
  {
   "cell_type": "code",
   "execution_count": 53,
   "metadata": {
    "collapsed": false
   },
   "outputs": [
    {
     "data": {
      "text/plain": [
       "50.0"
      ]
     },
     "execution_count": 53,
     "metadata": {},
     "output_type": "execute_result"
    }
   ],
   "source": [
    "(20 / 40) * 100"
   ]
  },
  {
   "cell_type": "code",
   "execution_count": 54,
   "metadata": {
    "collapsed": false
   },
   "outputs": [
    {
     "data": {
      "text/plain": [
       "0.25125628140703515"
      ]
     },
     "execution_count": 54,
     "metadata": {},
     "output_type": "execute_result"
    }
   ],
   "source": [
    "(20 / 7960) * 100"
   ]
  },
  {
   "cell_type": "markdown",
   "metadata": {},
   "source": [
    "### Problem set 2: programming challenge!"
   ]
  },
  {
   "cell_type": "code",
   "execution_count": 55,
   "metadata": {
    "collapsed": false
   },
   "outputs": [
    {
     "ename": "IndentationError",
     "evalue": "expected an indented block (<ipython-input-55-28917c3f22a6>, line 11)",
     "output_type": "error",
     "traceback": [
      "\u001b[1;36m  File \u001b[1;32m\"<ipython-input-55-28917c3f22a6>\"\u001b[1;36m, line \u001b[1;32m11\u001b[0m\n\u001b[1;33m    def update(self,result):\u001b[0m\n\u001b[1;37m      ^\u001b[0m\n\u001b[1;31mIndentationError\u001b[0m\u001b[1;31m:\u001b[0m expected an indented block\n"
     ]
    }
   ],
   "source": [
    "from __future__ import division\n",
    "class FlipPredictor(object):\n",
    "    def __init__(self,coins):\n",
    "        self.coins=coins\n",
    "        n=len(coins)\n",
    "        self.probs=[1/n]*n\n",
    "    def pheads(self):\n",
    "        #Write a function that returns \n",
    "        #the probability of the next flip being heads \n",
    "\n",
    "    def update(self,result):\n",
    "        #Write a function the updates\n",
    "        #the probabilities of flipping each coin\n",
    "\n",
    "#The code below this line tests your implementation. \n",
    "#You need not change it\n",
    "#You may add additional test cases or otherwise modify if desired\n",
    "def test(coins,flips):        \n",
    "    f=FlipPredictor(coins)\n",
    "    guesses=[]\n",
    "    for flip in flips:\n",
    "        f.update(flip)\n",
    "        guesses.append(f.pheads())\n",
    "    return guesses   \n",
    "        \n",
    "def maxdiff(l1,l2):\n",
    "    return max([abs(x-y) for x,y in zip(l1,l2)])\n",
    "\n",
    "testcases=[\n",
    "(([0.5,0.4,0.3],'HHTH'),[0.4166666666666667, 0.432, 0.42183098591549295, 0.43639398998330553]),\n",
    "(([0.14,0.32,0.42,0.81,0.21],'HHHTTTHHH'),[0.5255789473684211, 0.6512136991788505, 0.7295055220497553, 0.6187139453483192, 0.4823974597714815, 0.3895729901052968, 0.46081730193074644, 0.5444108434105802, 0.6297110187222278]),\n",
    "(([0.14,0.32,0.42,0.81,0.21],'TTTHHHHHH'),[0.2907741935483871, 0.25157009005730924, 0.23136284577678012, 0.2766575695593804, 0.3296000585271367, 0.38957299010529806, 0.4608173019307465, 0.5444108434105804, 0.6297110187222278]),\n",
    "(([0.12,0.45,0.23,0.99,0.35,0.36],'THHTHTTH'),[0.28514285714285714, 0.3378256513026052, 0.380956725493104, 0.3518717367468537, 0.37500429586037076, 0.36528605387582497, 0.3555106542906013, 0.37479179323540324]),\n",
    "(([0.03,0.32,0.59,0.53,0.55,0.42,0.65],'HHTHTTHTHHT'),[0.528705501618123, 0.5522060353798126, 0.5337142767315369, 0.5521920592821695, 0.5348391689038525, 0.5152373451083692, 0.535385450497415, 0.5168208803156963, 0.5357708613431963, 0.5510509656933194, 0.536055356823069])]\n",
    "\n",
    "for inputs,output in testcases:\n",
    "    if maxdiff(test(*inputs),output)<0.001:\n",
    "        print 'Correct'\n",
    "    else: print 'Incorrect'"
   ]
  },
  {
   "cell_type": "code",
   "execution_count": null,
   "metadata": {
    "collapsed": true
   },
   "outputs": [],
   "source": []
  }
 ],
 "metadata": {
  "kernelspec": {
   "display_name": "Python 3",
   "language": "python",
   "name": "python3"
  },
  "language_info": {
   "codemirror_mode": {
    "name": "ipython",
    "version": 3
   },
   "file_extension": ".py",
   "mimetype": "text/x-python",
   "name": "python",
   "nbconvert_exporter": "python",
   "pygments_lexer": "ipython3",
   "version": "3.4.1"
  }
 },
 "nbformat": 4,
 "nbformat_minor": 0
}
